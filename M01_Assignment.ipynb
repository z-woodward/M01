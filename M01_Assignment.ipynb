{
 "cells": [
  {
   "cell_type": "code",
   "execution_count": null,
   "id": "c65e1982",
   "metadata": {},
   "outputs": [],
   "source": [
    "\"\"\"3.1 How many seconds are in an hour? \n",
    "Use the interactive interpreter as a calculator \n",
    "and multiply the number of seconds in a minute (60) \n",
    "by the number of minutes in an hour (also 60).\"\"\"\n",
    "\n",
    "sec_in_hour = 60 * 60\n",
    "print(sec_in_hour) \n",
    "\n",
    "\"\"\"3.2 Assign the result from the previous task (seconds in an hour) to a variable called seconds_per_hour.\"\"\" \n",
    "\n",
    "seconds_per_hour = sec_in_hour\n",
    "print(seconds_per_hour)\n",
    "\n",
    "\"\"\"3.3 How many seconds are in a day? Use your seconds_per_hour variable.\"\"\"\n",
    "\n",
    "sec_in_day = seconds_per_hour * 24\n",
    "print(sec_in_day)\n",
    "\n",
    "\"\"\"3.4 Calculate seconds per day again, but this time save the result in a variable called seconds_per_day.\"\"\"\n",
    "\n",
    "seconds_per_day = sec_in_day\n",
    "print(seconds_per_day)\n",
    "\n",
    "\"\"\"3.5 Divide seconds_per_day by seconds_per_hour. Use floating-point (/) division.\"\"\"\n",
    "answer = seconds_per_day / seconds_per_hour\n",
    "print(answer)\n",
    "\n",
    "\n",
    "\"\"\"3.6 Divide seconds_per_day by seconds_per_hour, using integer (//) division. \n",
    "\"\"\"\n",
    "newanswer = seconds_per_day // seconds_per_hour\n",
    "print(newanswer)    \n",
    "\n",
    "\"\"\"Did this number agree with the floating-point value from the previous question, \n",
    "aside from the final .0?\"\"\"\n",
    "print(\"No, it does not appear so.\")"
   ]
  }
 ],
 "metadata": {
  "kernelspec": {
   "display_name": "Python 3 (ipykernel)",
   "language": "python",
   "name": "python3"
  },
  "language_info": {
   "codemirror_mode": {
    "name": "ipython",
    "version": 3
   },
   "file_extension": ".py",
   "mimetype": "text/x-python",
   "name": "python",
   "nbconvert_exporter": "python",
   "pygments_lexer": "ipython3",
   "version": "3.11.5"
  }
 },
 "nbformat": 4,
 "nbformat_minor": 5
}
